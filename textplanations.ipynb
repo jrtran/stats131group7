{
 "cells": [
  {
   "cell_type": "markdown",
   "metadata": {},
   "source": [
    "## NBA Combine and Careers: Translating Athleticism into the Box Score\n",
    "#### *STATS 131 | Fall 2019 | Group 7: Brielle Balswick, Julia Sung, Faith Tsang, Jeremy Tran*"
   ]
  },
  {
   "cell_type": "markdown",
   "metadata": {},
   "source": [
    "## 1. Introduction and Background"
   ]
  },
  {
   "cell_type": "markdown",
   "metadata": {},
   "source": [
    "#### A. The Motivating Question"
   ]
  },
  {
   "cell_type": "markdown",
   "metadata": {},
   "source": [
    "Athleticism has long been a heavily desired trait, if not outright requirement, for the vast majority of sports hopefuls. From badminton to rugby, \"players\" have become synonymous with \"athletes,\" complete with training regimens, health checkups, diet adjustments, and near-constant gym photos. At the same time, sports history is littered with examples of surprising successes from the less-athletic (Wayne Gretzky, Steve Nash, and the like), and conversely, the drafting process for almost every sport includes numerous busts who demonstrated excellent jumping or running ability but simply failed to play the game well. Basketball stands as an exemplar of this principle, and every year, countless draft experts and scouts dedicate sizable swaths of time to predicting which players will maximize their physical gifts, or else compensate with some other superb skill. In this notebook, we will seek to answer that underlying, motivating question: ***how does initial athleticism translate into on-court production?***"
   ]
  },
  {
   "cell_type": "markdown",
   "metadata": {},
   "source": [
    "#### B. How NBA Basketball Works"
   ]
  },
  {
   "cell_type": "markdown",
   "metadata": {},
   "source": [
    "* **Basic Structure:** The foremost league for basketball is the National Basketball Association (NBA), which has 82 games in a season. Every game is made up of 4 quarters of 12 minutes each, totalling 48 minutes per game. There are 10 players on the court at any given time, 5 from the home team and 5 from the away team, though in-game substitutions happen very frequently to give players rest. The team with the ball is on offense and tries to score points by throwing the ball in the basket, while the other team plays defense and tries to stop them.\n",
    "<p>\n",
    "* **Positions**: Typically, players are categorized as either guards, forwards, or centers. Guards are usually smaller and help to set up the offense; forwards are typically taller than guards and may act as jack-of-all-trades; and centers are generally the tallest players, tasked with anchoring the defense and getting the most rebounds (i.e., recovering the ball after a missed shot). These positions and their corresponding roles are not set in stone, however, and today's athletes often play multiple positions.\n",
    "<p>\n",
    "* **Box Score Statistics:** Most events that happen in-game are recorded in the \"box score,\" with 5 main statistical cateogries. Most of these statistics are expressed on a per-game basis.\n",
    "    1. Points are awarded for made shots.\n",
    "    2. Rebounds are credited to players who recover the ball after a missed shot.\n",
    "    3. Assists are credited to players who pass the ball to a teammate who makes a shot soon after.\n",
    "    4. Steals are credited to players who take the ball away from the other team.\n",
    "    5. Blocks are credited to players who physically alter the trajectory of a ball after a shot.\n",
    "<br><br>\n",
    "* **The Point System:** Like in most other sports, the team that scores the most points wins, and there are three ways to score points, each with their own corresponding point values. All shots that are taken in the flow of the game (e.g., everything but free throws) are called field goals.\n",
    "    1. Made free throws are worth one point each. These are undefended shots that are taken about 15 feet away from the basket, and they are typically awarded when a player is fouled on a shot attempt, or in other words, when the defender makes physical contact with the shooter's arm or hand, or pushes the shooter out of position when the shot is taken.\n",
    "    2. All shots taken inside the 3-point line are worth 2 points each, if they are made. \n",
    "    3. All shots taken outside the 3-point line are worth 3 points each, if they are made.\n",
    "<br><br>\n",
    "* **The Draft:** Every year, a new generation of players is drafted into the league, in a process with 2 rounds and 60 picks overall. While top draft picks often become stars or at least solid starters, many have also become busts, failing to live up to their hype and produce on the court. On the other hand, some players who went undrafted eventually achieved great success in the NBA.\n",
    " <p>\n",
    "* **The Draft Combine:** The NBA Draft Combine is a yearly, invitation-only event which allows college-age basketball players to showcase their skills and physical abilities. The combine typically consists of both measurements and athletic tests. A player's performance at the combine can dramatically impact their draft position; for instance, out-of-shape players could be drafted much lower than they expected. Not all players who enter the NBA attend the combine, and not all players who attend the combine are eventually drafted."
   ]
  },
  {
   "cell_type": "markdown",
   "metadata": {},
   "source": [
    "#### C. Data Sources"
   ]
  },
  {
   "cell_type": "markdown",
   "metadata": {},
   "source": [
    "We will examine NBA data, acquired from two sources: a [Basketball-Reference query](http://bkref.com/tiny/pYeHd) and NBA combine data scraped from [DraftExpress](https://data.world/achou/nba-draft-combine-measurements/workspace/file?filename=nba_draft_combine_all_years.csv). \n",
    "* Basketball-Reference uses statistics from Sportradar, the [official stats partner of the NBA](https://sportradar.us/2016/09/nba-announces-multiyear-partnership-with-sportradar-and-second-spectrum/). The resulting data is comprised of NBA players' career averages, along with Basketball-Reference's [own statistic](https://www.basketball-reference.com/about/ws.html): WS, or Win Shares, along with its normalized equivalent, WS/48. \n",
    "* The latter data was scraped from DraftExpress, which unfortunately no longer maintains their online databases, since the site owners [moved to ESPN](http://www.draftexpress.com/article/the-end-of-an-era-6070/). However, as far as we can tell, the data is still accurate when compared to NBA's official [statistics API](https://stats.nba.com/draft/combine/).\n",
    "\n",
    "These datasets will need to be joined together by player name, which will be the first step of our journey below. The resulting dataset represents **players who participated in the NBA draft combine and were actually drafted by NBA teams in the years 2009-2017**."
   ]
  },
  {
   "cell_type": "markdown",
   "metadata": {},
   "source": [
    "#### D. Explaining the Variables"
   ]
  },
  {
   "cell_type": "markdown",
   "metadata": {},
   "source": [
    "In our final dataset, we will examine the following variables:\n",
    "* *Identifying Variables*\n",
    "    * `Player`: The player's name.\n",
    "    * `Pk`: The draft position of the player (from 1-60). Teams usually try to take better players at higher picks.\n",
    "    * `Year`: The year that the player participated in the combine.\n",
    "    * `Pos`: The player's position. May be guard (G), forward (F), center (C), or some combination of the two (e.g., G-F or F-C).\n",
    "    * `Born`: The player's birth country, abbreviated to two letters. Most players are from the US.\n",
    "    * `College`: The player's college, if applicable. International-born players usually do not attend American colleges.\n",
    "    * `Age`: The player's age at the time of the combine. Most players are college-age (e.g., between 18 and 22).\n",
    "<p>\n",
    "* *Physical Measurements*\n",
    "    * `Height (No Shoes)`: How tall the player is without shoes (inches). Most players in the NBA are at least 6 feet tall, but very few are over 7.5 feet.\n",
    "    * `Height (With Shoes)`: How tall the player is with shoes (inches). Nearly all NBA players measure their height with shoes.\n",
    "    * `Wingspan`: The fingertip-to-fingertip length of the player's extended arms (inches). The average male's wingspan is 2 inches greater than his height.\n",
    "    * `Standing reach`: The maximum height the player can reach with his extended arms while standing (inches).\n",
    "    * `Hand (Length)`: According to [howtheyplay.com](https://howtheyplay.com/team-sports/14-NBA-Players-With-the-Most-Impressive-Hand-Sizes), \"Hand length is measured from the base of the palm to the tip of the middle finger. Very few NBA players have hand lengths of 10 inches or longer. Examples include Andrew Nicholson, Jaren Jackson Jr, and Dexter Pittman. The average hand length for a male is around 7.4 inches.\"\n",
    "    * `Hand (Width)`: According to the same source as above, \"Hand [width] is measured from the tip of the thumb to the tip of the pinky finger with your hand outstretched...it’s extremely rare for even an NBA player to have a hand span of 12 inches or wider. Gregory Smith and Giannis Antetokounmpo are a few who can boast of such measurements. The average male’s hand span is about 8.5 inches.\"\n",
    "    * `Weight`: The player's weight in pounds.\n",
    "    * `Body Fat`: The player's body fat percentage. For athletes, this number is usually [13% or less](https://www.acefitness.org/education-and-resources/lifestyle/blog/112/what-are-the-guidelines-for-percentage-of-body-fat-loss).\n",
    "<p>\n",
    "* *Athletic Tests*\n",
    "    * Note: According to [coachmac-basketball.com](http://www.coachmac-basketball.com/average-vertical-jump/), the average male's max vertical is about 20 inches. 30 inches is standard for competititve men's basketball players, while a handful can achieve about 40 inches. Standing vertical is almost always lower than max vertical, since running starts are not allowed; the benchmark for a good standing vertical in the NBA is about 30 inches.\n",
    "    * `Vertical (Max)`: The maximum height that a player can jump given a running start, measured from the ground to the bottom of the shoes (inches).\n",
    "    * `Vertical (Max Reach)`: The maximum height that a player can reach with his extended arms while jumping, given a running start (inches).\n",
    "    * `Vertical (No Step)`: The maximum height that a player can jump from a standstill position, measured from ground to shoes (inches).\n",
    "    * `Vertical (No Step Reach)`: The maximum height that a player can reach with his extended arms while jumping from a standstill position (inches).\n",
    "    * `Agility`: According to NBA writer [Mark Rappaport](https://www.nba.com/sixers/news/140512-combine-primer?fbclid=IwAR08ZyALMvkzpaY34IV04SU1QoXWmfoeumbsN8Jof1rj2d55B1XNl6KAINg), \"The lane agility drill is designed to measure a player’s lateral quickness and ability to change direction. Cones are placed along the four corners of the key, and players follow a square path around them, first clockwise and then counterclockwise, peddling forwards, backwards, and side to side in the process.\" Most players can usually finish the drill in 10-12 seconds; sub-10 second times are extremely rare.\n",
    "    * `Sprint`: The same source as above notes that \"the distance covered in this drill is actually 75 feet despite the fact that an NBA court is 94 feet in length, the 3/4 court sprint is the basketball equivalent to football’s 40-yard dash. The drill is primarily a measure of acceleration rather than top-line speed, and times typically fall between the low- to mid-three second range.\"\n",
    "<p>\n",
    "* *Career Statistics*\n",
    "    * `From`: The year that the player first started playing in the NBA.\n",
    "    * `To`: The year the player stopped playing in the NBA. For active players, this year should be 2020, but it could be 2019 for players who have been injured for the entirety of 2019 and are returning.\n",
    "    * `G`: How many career games the player has played in. 500 games is a standard for most experienced NBA players (about 6 seasons).\n",
    "    * `MPG`: Minutes per game. Starters usually play about 20-40 minutes per game (with 40 minutes being at the very high end), while regular bench players may play about 10-25 minutes per game. Of course, these are not hard and fast rules.\n",
    "    * `PPG`: Points scored per game. The standard for a good scorer is about 20 PPG, and a handful of great scorers may average 30 PPG. For reference, Michael Jordan's *career* average over 15 seasons is about 30 PPG.\n",
    "    * `RPG`: Rebounds per game. The standard for a good rebounder is about 10 RPG, with season averages above 15 RPG being very unusual today.\n",
    "    * `APG`: Assists per game. The standard for a good passer is about 6-8 APG. A handful of players consistently average above 10 APG.\n",
    "    * `SPG`: Steals per game. The top \"stealers\" may average about 1-2 SPG. At his peak, Magic Johnson averaged about 3 SPG.\n",
    "    * `BPG`: Blocks per game. The top \"blockers\" may average about 2-3 BPG. \n",
    "    * `FG%`: Overall field goal percentage (shots made divided by shots attempted). Includes 2-pointers and 3-pointers, but not free throws. Most players fall in the 40-55% range, with very efficient or selective players reaching 60%.\n",
    "    * `2P%`: Two-point shot percentage. As the name implies, does not include 3-pointers. 2P% is usually greater than 3P% (about 45-60%), due to the greater difficulty introduced by the distance of the 3-point line.\n",
    "    * `3P%`: Three-point shot percentage. 35% is considered average, and 40% is considered good.\n",
    "    * `FT%`: Free throw shot percentage. 75% is considered average, with excellent shooters reaching up to 90%. On the other hand, poor shooters like Shaquille O'Neal may struggle to reach 50%.\n",
    "    * `WS`: Career win shares. According to [Basketball-Reference](https://www.basketball-reference.com/about/ws.html), \"Win Shares is a player statistic which attempts to divvy up credit for team success to the individuals on the team...it is calculated using player, team and league-wide statistics and the sum of player win shares on a given team will be roughly equal to that team's win total for the season.\" For reference, Lebron James currently has about 230 career win shares, roughly implying that his contributions amounted to 230 wins.\n",
    "<p>\n",
    "* *Normalized Statistics*\n",
    "    * `PP48`, `RP48`, `AP48`, `SP48`, `BP48`: Variables that we created to understand a player's per-minute performance, extended to 48 minutes. These (very roughly) approximate what players' per-game averages would look like if they always played the entire game, and they were computed by dividing by the minutes per game. For example:\n",
    "$$\\textrm{PP48} = \\frac{\\textrm{PPG}}{\\textrm{MPG}} \\times 48 = \\frac{\\textrm{Total Points}}{\\textrm{Total Minutes}} \\times 48$$<br>\n",
    "    * Note: The above statistics are not always reliable, given their inability to account for small sample sizes. A player who only played 1 minute in 1 game but scored 2 points would technically average 96 PP48. Thus, these normalized statistics must always be considered along with the number of games played and the number of minutes per game.\n",
    "    * `WS/48`: The normalized equivalent of `WS`. For reference, Michael Jordan's career average is about [0.25 WS/48](https://www.basketball-reference.com/leaders/ws_per_48_career.html), roughly implying that he singlehandedly contributed to 25% of a win in every 48 minutes he played.\n",
    "<p>\n",
    "* *Ignored Variables*\n",
    "    * `Bench`: How many repetitions of 185-pound..."
   ]
  },
  {
   "cell_type": "markdown",
   "metadata": {},
   "source": []
  }
 ],
 "metadata": {
  "kernelspec": {
   "display_name": "Python 3",
   "language": "python",
   "name": "python3"
  },
  "language_info": {
   "codemirror_mode": {
    "name": "ipython",
    "version": 3
   },
   "file_extension": ".py",
   "mimetype": "text/x-python",
   "name": "python",
   "nbconvert_exporter": "python",
   "pygments_lexer": "ipython3",
   "version": "3.7.3"
  }
 },
 "nbformat": 4,
 "nbformat_minor": 2
}
