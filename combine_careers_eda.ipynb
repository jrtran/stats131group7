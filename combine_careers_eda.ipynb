{
 "cells": [
  {
   "cell_type": "markdown",
   "metadata": {},
   "source": [
    "## NBA Combine and Careers: How Athleticism Translates into Box Score Performance\n",
    "#### *STATS 131 | Group 7 | Fall 2019*"
   ]
  },
  {
   "cell_type": "markdown",
   "metadata": {},
   "source": [
    "## 1. Introduction and Background"
   ]
  },
  {
   "cell_type": "markdown",
   "metadata": {},
   "source": [
    "Athleticism has long been a heavily desired trait, if not outright requirement, for the vast majority of sports hopefuls. From badminton to rugby, \"players\" have become synonymous with \"athletes,\" complete with training regimens, health checkups, diet adjustments, and near-constant gym photos. At the same time, sports history is littered with examples of surprising successes from the less-athletic (Wayne Gretzky, Steve Nash, and the like), and conversely, the drafting process for almost every sport includes numerous busts who demonstrated excellent jumping or running ability but simply failed to play the game well. Basketball stands as an exemplar of this principle, and every year, countless draft experts and scouts dedicate sizable swaths of time to predicting which players will maximize their physical gifts, or else compensate with some other superb skill. In this notebook, we will seek to answer that underlying, motivating question: **how does initial athleticism translate into on-court production?**\n",
    "\n",
    "We will examine NBA data, acquired from two sources: a [Basketball-Reference query](http://bkref.com/tiny/pYeHd) and NBA combine data scraped from [DraftExpress](https://data.world/achou/nba-draft-combine-measurements/workspace/file?filename=nba_draft_combine_all_years.csv). \n",
    "* The former uses statistics from Sportradar, the [official stats partner of the NBA](https://sportradar.us/2016/09/nba-announces-multiyear-partnership-with-sportradar-and-second-spectrum/)."
   ]
  },
  {
   "cell_type": "markdown",
   "metadata": {},
   "source": [
    "## 2. Setup and Joining"
   ]
  },
  {
   "cell_type": "code",
   "execution_count": 59,
   "metadata": {},
   "outputs": [],
   "source": [
    "import pandas as pd\n",
    "import numpy as np\n",
    "import matplotlib.pyplot as plt\n",
    "import seaborn as sns\n",
    "pd.set_option('display.max_columns', None)"
   ]
  },
  {
   "cell_type": "code",
   "execution_count": 4,
   "metadata": {},
   "outputs": [],
   "source": [
    "player_avgs = pd.read_csv('player_avgs.csv')\n",
    "nba_combine = pd.read_csv('nba_draft_combine_all_years.csv')"
   ]
  },
  {
   "cell_type": "code",
   "execution_count": 5,
   "metadata": {},
   "outputs": [
    {
     "data": {
      "text/html": [
       "<div>\n",
       "<style scoped>\n",
       "    .dataframe tbody tr th:only-of-type {\n",
       "        vertical-align: middle;\n",
       "    }\n",
       "\n",
       "    .dataframe tbody tr th {\n",
       "        vertical-align: top;\n",
       "    }\n",
       "\n",
       "    .dataframe thead th {\n",
       "        text-align: right;\n",
       "    }\n",
       "</style>\n",
       "<table border=\"1\" class=\"dataframe\">\n",
       "  <thead>\n",
       "    <tr style=\"text-align: right;\">\n",
       "      <th></th>\n",
       "      <th>Rk</th>\n",
       "      <th>Year</th>\n",
       "      <th>Lg</th>\n",
       "      <th>Rd</th>\n",
       "      <th>Pk</th>\n",
       "      <th>Tm</th>\n",
       "      <th>Player</th>\n",
       "      <th>Age</th>\n",
       "      <th>Pos</th>\n",
       "      <th>Born</th>\n",
       "      <th>...</th>\n",
       "      <th>RPG</th>\n",
       "      <th>APG</th>\n",
       "      <th>SPG</th>\n",
       "      <th>BPG</th>\n",
       "      <th>FG%</th>\n",
       "      <th>2P%</th>\n",
       "      <th>3P%</th>\n",
       "      <th>FT%</th>\n",
       "      <th>WS</th>\n",
       "      <th>WS/48</th>\n",
       "    </tr>\n",
       "  </thead>\n",
       "  <tbody>\n",
       "    <tr>\n",
       "      <th>0</th>\n",
       "      <td>1</td>\n",
       "      <td>2014</td>\n",
       "      <td>NBA</td>\n",
       "      <td>2</td>\n",
       "      <td>51</td>\n",
       "      <td>NYK</td>\n",
       "      <td>Thanasis Antetokounmpo\\antetth01</td>\n",
       "      <td>21.348</td>\n",
       "      <td>F</td>\n",
       "      <td>gr</td>\n",
       "      <td>...</td>\n",
       "      <td>1.0</td>\n",
       "      <td>0.3</td>\n",
       "      <td>0.0</td>\n",
       "      <td>0.0</td>\n",
       "      <td>0.667</td>\n",
       "      <td>0.800</td>\n",
       "      <td>0.000</td>\n",
       "      <td>NaN</td>\n",
       "      <td>0.1</td>\n",
       "      <td>0.304</td>\n",
       "    </tr>\n",
       "    <tr>\n",
       "      <th>1</th>\n",
       "      <td>2</td>\n",
       "      <td>2009</td>\n",
       "      <td>NBA</td>\n",
       "      <td>1</td>\n",
       "      <td>3</td>\n",
       "      <td>OKC</td>\n",
       "      <td>James Harden\\hardeja01</td>\n",
       "      <td>19.308</td>\n",
       "      <td>G</td>\n",
       "      <td>us</td>\n",
       "      <td>...</td>\n",
       "      <td>5.2</td>\n",
       "      <td>6.2</td>\n",
       "      <td>1.5</td>\n",
       "      <td>0.5</td>\n",
       "      <td>0.442</td>\n",
       "      <td>0.507</td>\n",
       "      <td>0.363</td>\n",
       "      <td>0.859</td>\n",
       "      <td>122.5</td>\n",
       "      <td>0.223</td>\n",
       "    </tr>\n",
       "    <tr>\n",
       "      <th>2</th>\n",
       "      <td>3</td>\n",
       "      <td>2011</td>\n",
       "      <td>NBA</td>\n",
       "      <td>1</td>\n",
       "      <td>15</td>\n",
       "      <td>IND</td>\n",
       "      <td>Kawhi Leonard\\leonaka01</td>\n",
       "      <td>19.364</td>\n",
       "      <td>F</td>\n",
       "      <td>us</td>\n",
       "      <td>...</td>\n",
       "      <td>6.3</td>\n",
       "      <td>2.4</td>\n",
       "      <td>1.8</td>\n",
       "      <td>0.7</td>\n",
       "      <td>0.494</td>\n",
       "      <td>0.537</td>\n",
       "      <td>0.383</td>\n",
       "      <td>0.848</td>\n",
       "      <td>66.9</td>\n",
       "      <td>0.220</td>\n",
       "    </tr>\n",
       "    <tr>\n",
       "      <th>3</th>\n",
       "      <td>4</td>\n",
       "      <td>2013</td>\n",
       "      <td>NBA</td>\n",
       "      <td>1</td>\n",
       "      <td>27</td>\n",
       "      <td>DEN</td>\n",
       "      <td>Rudy Gobert\\goberru01</td>\n",
       "      <td>21.006</td>\n",
       "      <td>C</td>\n",
       "      <td>fr</td>\n",
       "      <td>...</td>\n",
       "      <td>10.6</td>\n",
       "      <td>1.3</td>\n",
       "      <td>0.7</td>\n",
       "      <td>2.2</td>\n",
       "      <td>0.628</td>\n",
       "      <td>0.629</td>\n",
       "      <td>0.000</td>\n",
       "      <td>0.631</td>\n",
       "      <td>53.6</td>\n",
       "      <td>0.216</td>\n",
       "    </tr>\n",
       "    <tr>\n",
       "      <th>4</th>\n",
       "      <td>5</td>\n",
       "      <td>2012</td>\n",
       "      <td>NBA</td>\n",
       "      <td>1</td>\n",
       "      <td>1</td>\n",
       "      <td>NOH</td>\n",
       "      <td>Anthony Davis\\davisan02</td>\n",
       "      <td>19.114</td>\n",
       "      <td>F-C</td>\n",
       "      <td>us</td>\n",
       "      <td>...</td>\n",
       "      <td>10.5</td>\n",
       "      <td>2.1</td>\n",
       "      <td>1.4</td>\n",
       "      <td>2.4</td>\n",
       "      <td>0.516</td>\n",
       "      <td>0.533</td>\n",
       "      <td>0.311</td>\n",
       "      <td>0.797</td>\n",
       "      <td>73.2</td>\n",
       "      <td>0.215</td>\n",
       "    </tr>\n",
       "  </tbody>\n",
       "</table>\n",
       "<p>5 rows × 26 columns</p>\n",
       "</div>"
      ],
      "text/plain": [
       "   Rk  Year   Lg  Rd  Pk   Tm                            Player     Age  Pos  \\\n",
       "0   1  2014  NBA   2  51  NYK  Thanasis Antetokounmpo\\antetth01  21.348    F   \n",
       "1   2  2009  NBA   1   3  OKC            James Harden\\hardeja01  19.308    G   \n",
       "2   3  2011  NBA   1  15  IND           Kawhi Leonard\\leonaka01  19.364    F   \n",
       "3   4  2013  NBA   1  27  DEN             Rudy Gobert\\goberru01  21.006    C   \n",
       "4   5  2012  NBA   1   1  NOH           Anthony Davis\\davisan02  19.114  F-C   \n",
       "\n",
       "  Born  ...   RPG  APG  SPG  BPG    FG%    2P%    3P%    FT%     WS  WS/48  \n",
       "0   gr  ...   1.0  0.3  0.0  0.0  0.667  0.800  0.000    NaN    0.1  0.304  \n",
       "1   us  ...   5.2  6.2  1.5  0.5  0.442  0.507  0.363  0.859  122.5  0.223  \n",
       "2   us  ...   6.3  2.4  1.8  0.7  0.494  0.537  0.383  0.848   66.9  0.220  \n",
       "3   fr  ...  10.6  1.3  0.7  2.2  0.628  0.629  0.000  0.631   53.6  0.216  \n",
       "4   us  ...  10.5  2.1  1.4  2.4  0.516  0.533  0.311  0.797   73.2  0.215  \n",
       "\n",
       "[5 rows x 26 columns]"
      ]
     },
     "execution_count": 5,
     "metadata": {},
     "output_type": "execute_result"
    }
   ],
   "source": [
    "# check data\n",
    "player_avgs.head()"
   ]
  },
  {
   "cell_type": "code",
   "execution_count": 6,
   "metadata": {},
   "outputs": [
    {
     "data": {
      "text/html": [
       "<div>\n",
       "<style scoped>\n",
       "    .dataframe tbody tr th:only-of-type {\n",
       "        vertical-align: middle;\n",
       "    }\n",
       "\n",
       "    .dataframe tbody tr th {\n",
       "        vertical-align: top;\n",
       "    }\n",
       "\n",
       "    .dataframe thead th {\n",
       "        text-align: right;\n",
       "    }\n",
       "</style>\n",
       "<table border=\"1\" class=\"dataframe\">\n",
       "  <thead>\n",
       "    <tr style=\"text-align: right;\">\n",
       "      <th></th>\n",
       "      <th>Unnamed: 0</th>\n",
       "      <th>Player</th>\n",
       "      <th>Year</th>\n",
       "      <th>Draft pick</th>\n",
       "      <th>Height (No Shoes)</th>\n",
       "      <th>Height (With Shoes)</th>\n",
       "      <th>Wingspan</th>\n",
       "      <th>Standing reach</th>\n",
       "      <th>Vertical (Max)</th>\n",
       "      <th>Vertical (Max Reach)</th>\n",
       "      <th>Vertical (No Step)</th>\n",
       "      <th>Vertical (No Step Reach)</th>\n",
       "      <th>Weight</th>\n",
       "      <th>Body Fat</th>\n",
       "      <th>Hand (Length)</th>\n",
       "      <th>Hand (Width)</th>\n",
       "      <th>Bench</th>\n",
       "      <th>Agility</th>\n",
       "      <th>Sprint</th>\n",
       "    </tr>\n",
       "  </thead>\n",
       "  <tbody>\n",
       "    <tr>\n",
       "      <th>0</th>\n",
       "      <td>0</td>\n",
       "      <td>Blake Griffin</td>\n",
       "      <td>2009</td>\n",
       "      <td>1.0</td>\n",
       "      <td>80.50</td>\n",
       "      <td>82.00</td>\n",
       "      <td>83.25</td>\n",
       "      <td>105.0</td>\n",
       "      <td>35.5</td>\n",
       "      <td>140.5</td>\n",
       "      <td>32.0</td>\n",
       "      <td>137.0</td>\n",
       "      <td>248.0</td>\n",
       "      <td>8.2</td>\n",
       "      <td>NaN</td>\n",
       "      <td>NaN</td>\n",
       "      <td>22.0</td>\n",
       "      <td>10.95</td>\n",
       "      <td>3.28</td>\n",
       "    </tr>\n",
       "    <tr>\n",
       "      <th>1</th>\n",
       "      <td>1</td>\n",
       "      <td>Terrence Williams</td>\n",
       "      <td>2009</td>\n",
       "      <td>11.0</td>\n",
       "      <td>77.00</td>\n",
       "      <td>78.25</td>\n",
       "      <td>81.00</td>\n",
       "      <td>103.5</td>\n",
       "      <td>37.0</td>\n",
       "      <td>140.5</td>\n",
       "      <td>30.5</td>\n",
       "      <td>134.0</td>\n",
       "      <td>213.0</td>\n",
       "      <td>5.1</td>\n",
       "      <td>NaN</td>\n",
       "      <td>NaN</td>\n",
       "      <td>9.0</td>\n",
       "      <td>11.15</td>\n",
       "      <td>3.18</td>\n",
       "    </tr>\n",
       "    <tr>\n",
       "      <th>2</th>\n",
       "      <td>2</td>\n",
       "      <td>Gerald Henderson</td>\n",
       "      <td>2009</td>\n",
       "      <td>12.0</td>\n",
       "      <td>76.00</td>\n",
       "      <td>77.00</td>\n",
       "      <td>82.25</td>\n",
       "      <td>102.5</td>\n",
       "      <td>35.0</td>\n",
       "      <td>137.5</td>\n",
       "      <td>31.5</td>\n",
       "      <td>134.0</td>\n",
       "      <td>215.0</td>\n",
       "      <td>4.4</td>\n",
       "      <td>NaN</td>\n",
       "      <td>NaN</td>\n",
       "      <td>8.0</td>\n",
       "      <td>11.17</td>\n",
       "      <td>3.14</td>\n",
       "    </tr>\n",
       "    <tr>\n",
       "      <th>3</th>\n",
       "      <td>3</td>\n",
       "      <td>Tyler Hansbrough</td>\n",
       "      <td>2009</td>\n",
       "      <td>13.0</td>\n",
       "      <td>80.25</td>\n",
       "      <td>81.50</td>\n",
       "      <td>83.50</td>\n",
       "      <td>106.0</td>\n",
       "      <td>34.0</td>\n",
       "      <td>140.0</td>\n",
       "      <td>27.5</td>\n",
       "      <td>133.5</td>\n",
       "      <td>234.0</td>\n",
       "      <td>8.5</td>\n",
       "      <td>NaN</td>\n",
       "      <td>NaN</td>\n",
       "      <td>18.0</td>\n",
       "      <td>11.12</td>\n",
       "      <td>3.27</td>\n",
       "    </tr>\n",
       "    <tr>\n",
       "      <th>4</th>\n",
       "      <td>4</td>\n",
       "      <td>Earl Clark</td>\n",
       "      <td>2009</td>\n",
       "      <td>14.0</td>\n",
       "      <td>80.50</td>\n",
       "      <td>82.25</td>\n",
       "      <td>86.50</td>\n",
       "      <td>109.5</td>\n",
       "      <td>33.0</td>\n",
       "      <td>142.5</td>\n",
       "      <td>28.5</td>\n",
       "      <td>138.0</td>\n",
       "      <td>228.0</td>\n",
       "      <td>5.2</td>\n",
       "      <td>NaN</td>\n",
       "      <td>NaN</td>\n",
       "      <td>5.0</td>\n",
       "      <td>11.17</td>\n",
       "      <td>3.35</td>\n",
       "    </tr>\n",
       "  </tbody>\n",
       "</table>\n",
       "</div>"
      ],
      "text/plain": [
       "   Unnamed: 0             Player  Year  Draft pick  Height (No Shoes)  \\\n",
       "0           0      Blake Griffin  2009         1.0              80.50   \n",
       "1           1  Terrence Williams  2009        11.0              77.00   \n",
       "2           2   Gerald Henderson  2009        12.0              76.00   \n",
       "3           3   Tyler Hansbrough  2009        13.0              80.25   \n",
       "4           4         Earl Clark  2009        14.0              80.50   \n",
       "\n",
       "   Height (With Shoes)  Wingspan  Standing reach  Vertical (Max)  \\\n",
       "0                82.00     83.25           105.0            35.5   \n",
       "1                78.25     81.00           103.5            37.0   \n",
       "2                77.00     82.25           102.5            35.0   \n",
       "3                81.50     83.50           106.0            34.0   \n",
       "4                82.25     86.50           109.5            33.0   \n",
       "\n",
       "   Vertical (Max Reach)  Vertical (No Step)  Vertical (No Step Reach)  Weight  \\\n",
       "0                 140.5                32.0                     137.0   248.0   \n",
       "1                 140.5                30.5                     134.0   213.0   \n",
       "2                 137.5                31.5                     134.0   215.0   \n",
       "3                 140.0                27.5                     133.5   234.0   \n",
       "4                 142.5                28.5                     138.0   228.0   \n",
       "\n",
       "   Body Fat  Hand (Length)  Hand (Width)  Bench  Agility  Sprint  \n",
       "0       8.2            NaN           NaN   22.0    10.95    3.28  \n",
       "1       5.1            NaN           NaN    9.0    11.15    3.18  \n",
       "2       4.4            NaN           NaN    8.0    11.17    3.14  \n",
       "3       8.5            NaN           NaN   18.0    11.12    3.27  \n",
       "4       5.2            NaN           NaN    5.0    11.17    3.35  "
      ]
     },
     "execution_count": 6,
     "metadata": {},
     "output_type": "execute_result"
    }
   ],
   "source": [
    "nba_combine.head()"
   ]
  },
  {
   "cell_type": "markdown",
   "metadata": {},
   "source": [
    "We'll rename the `Draft pick` column in `nba_combine` to `Pk`, in order to facilitate joining the two datasets later:"
   ]
  },
  {
   "cell_type": "code",
   "execution_count": 68,
   "metadata": {},
   "outputs": [],
   "source": [
    "nba_combine.rename(columns = {'Draft pick': 'Pk'}, inplace = True)"
   ]
  },
  {
   "cell_type": "markdown",
   "metadata": {},
   "source": [
    "Then, we need to clean the players' names in the `player_avgs` dataframe, so that the part after the slash is not included."
   ]
  },
  {
   "cell_type": "code",
   "execution_count": 7,
   "metadata": {},
   "outputs": [
    {
     "data": {
      "text/plain": [
       "0    Thanasis Antetokounmpo\n",
       "1              James Harden\n",
       "2             Kawhi Leonard\n",
       "3               Rudy Gobert\n",
       "4             Anthony Davis\n",
       "Name: Player, dtype: object"
      ]
     },
     "execution_count": 7,
     "metadata": {},
     "output_type": "execute_result"
    }
   ],
   "source": [
    "player_avgs.Player = [name.split('\\\\')[0] for name in player_avgs.Player]\n",
    "player_avgs.Player[0:5]"
   ]
  },
  {
   "cell_type": "code",
   "execution_count": 70,
   "metadata": {},
   "outputs": [
    {
     "data": {
      "text/html": [
       "<div>\n",
       "<style scoped>\n",
       "    .dataframe tbody tr th:only-of-type {\n",
       "        vertical-align: middle;\n",
       "    }\n",
       "\n",
       "    .dataframe tbody tr th {\n",
       "        vertical-align: top;\n",
       "    }\n",
       "\n",
       "    .dataframe thead th {\n",
       "        text-align: right;\n",
       "    }\n",
       "</style>\n",
       "<table border=\"1\" class=\"dataframe\">\n",
       "  <thead>\n",
       "    <tr style=\"text-align: right;\">\n",
       "      <th></th>\n",
       "      <th>Unnamed: 0</th>\n",
       "      <th>Player</th>\n",
       "      <th>Year_x</th>\n",
       "      <th>Pk</th>\n",
       "      <th>Height (No Shoes)</th>\n",
       "      <th>Height (With Shoes)</th>\n",
       "      <th>Wingspan</th>\n",
       "      <th>Standing reach</th>\n",
       "      <th>Vertical (Max)</th>\n",
       "      <th>Vertical (Max Reach)</th>\n",
       "      <th>Vertical (No Step)</th>\n",
       "      <th>Vertical (No Step Reach)</th>\n",
       "      <th>Weight</th>\n",
       "      <th>Body Fat</th>\n",
       "      <th>Hand (Length)</th>\n",
       "      <th>Hand (Width)</th>\n",
       "      <th>Bench</th>\n",
       "      <th>Agility</th>\n",
       "      <th>Sprint</th>\n",
       "      <th>Rk</th>\n",
       "      <th>Year_y</th>\n",
       "      <th>Lg</th>\n",
       "      <th>Rd</th>\n",
       "      <th>Tm</th>\n",
       "      <th>Age</th>\n",
       "      <th>Pos</th>\n",
       "      <th>Born</th>\n",
       "      <th>College</th>\n",
       "      <th>From</th>\n",
       "      <th>To</th>\n",
       "      <th>G</th>\n",
       "      <th>MPG</th>\n",
       "      <th>PPG</th>\n",
       "      <th>RPG</th>\n",
       "      <th>APG</th>\n",
       "      <th>SPG</th>\n",
       "      <th>BPG</th>\n",
       "      <th>FG%</th>\n",
       "      <th>2P%</th>\n",
       "      <th>3P%</th>\n",
       "      <th>FT%</th>\n",
       "      <th>WS</th>\n",
       "      <th>WS/48</th>\n",
       "    </tr>\n",
       "  </thead>\n",
       "  <tbody>\n",
       "    <tr>\n",
       "      <th>0</th>\n",
       "      <td>0</td>\n",
       "      <td>Blake Griffin</td>\n",
       "      <td>2009</td>\n",
       "      <td>1.0</td>\n",
       "      <td>80.50</td>\n",
       "      <td>82.00</td>\n",
       "      <td>83.25</td>\n",
       "      <td>105.0</td>\n",
       "      <td>35.5</td>\n",
       "      <td>140.5</td>\n",
       "      <td>32.0</td>\n",
       "      <td>137.0</td>\n",
       "      <td>248.0</td>\n",
       "      <td>8.2</td>\n",
       "      <td>NaN</td>\n",
       "      <td>NaN</td>\n",
       "      <td>22.0</td>\n",
       "      <td>10.95</td>\n",
       "      <td>3.28</td>\n",
       "      <td>19</td>\n",
       "      <td>2009</td>\n",
       "      <td>NBA</td>\n",
       "      <td>1</td>\n",
       "      <td>LAC</td>\n",
       "      <td>20.106</td>\n",
       "      <td>F</td>\n",
       "      <td>us</td>\n",
       "      <td>Oklahoma</td>\n",
       "      <td>2011.0</td>\n",
       "      <td>2019.0</td>\n",
       "      <td>604.0</td>\n",
       "      <td>35.0</td>\n",
       "      <td>21.9</td>\n",
       "      <td>9.0</td>\n",
       "      <td>4.5</td>\n",
       "      <td>0.9</td>\n",
       "      <td>0.5</td>\n",
       "      <td>0.502</td>\n",
       "      <td>0.522</td>\n",
       "      <td>0.342</td>\n",
       "      <td>0.692</td>\n",
       "      <td>75.3</td>\n",
       "      <td>0.171</td>\n",
       "    </tr>\n",
       "    <tr>\n",
       "      <th>1</th>\n",
       "      <td>1</td>\n",
       "      <td>Terrence Williams</td>\n",
       "      <td>2009</td>\n",
       "      <td>11.0</td>\n",
       "      <td>77.00</td>\n",
       "      <td>78.25</td>\n",
       "      <td>81.00</td>\n",
       "      <td>103.5</td>\n",
       "      <td>37.0</td>\n",
       "      <td>140.5</td>\n",
       "      <td>30.5</td>\n",
       "      <td>134.0</td>\n",
       "      <td>213.0</td>\n",
       "      <td>5.1</td>\n",
       "      <td>NaN</td>\n",
       "      <td>NaN</td>\n",
       "      <td>9.0</td>\n",
       "      <td>11.15</td>\n",
       "      <td>3.18</td>\n",
       "      <td>464</td>\n",
       "      <td>2009</td>\n",
       "      <td>NBA</td>\n",
       "      <td>1</td>\n",
       "      <td>NJN</td>\n",
       "      <td>22.003</td>\n",
       "      <td>F</td>\n",
       "      <td>us</td>\n",
       "      <td>Louisville</td>\n",
       "      <td>2010.0</td>\n",
       "      <td>2013.0</td>\n",
       "      <td>153.0</td>\n",
       "      <td>19.1</td>\n",
       "      <td>7.1</td>\n",
       "      <td>3.6</td>\n",
       "      <td>2.4</td>\n",
       "      <td>0.5</td>\n",
       "      <td>0.1</td>\n",
       "      <td>0.412</td>\n",
       "      <td>0.432</td>\n",
       "      <td>0.317</td>\n",
       "      <td>0.659</td>\n",
       "      <td>-0.2</td>\n",
       "      <td>-0.004</td>\n",
       "    </tr>\n",
       "    <tr>\n",
       "      <th>2</th>\n",
       "      <td>2</td>\n",
       "      <td>Gerald Henderson</td>\n",
       "      <td>2009</td>\n",
       "      <td>12.0</td>\n",
       "      <td>76.00</td>\n",
       "      <td>77.00</td>\n",
       "      <td>82.25</td>\n",
       "      <td>102.5</td>\n",
       "      <td>35.0</td>\n",
       "      <td>137.5</td>\n",
       "      <td>31.5</td>\n",
       "      <td>134.0</td>\n",
       "      <td>215.0</td>\n",
       "      <td>4.4</td>\n",
       "      <td>NaN</td>\n",
       "      <td>NaN</td>\n",
       "      <td>8.0</td>\n",
       "      <td>11.17</td>\n",
       "      <td>3.14</td>\n",
       "      <td>258</td>\n",
       "      <td>2009</td>\n",
       "      <td>NBA</td>\n",
       "      <td>1</td>\n",
       "      <td>CHA</td>\n",
       "      <td>21.204</td>\n",
       "      <td>G</td>\n",
       "      <td>us</td>\n",
       "      <td>Duke</td>\n",
       "      <td>2010.0</td>\n",
       "      <td>2017.0</td>\n",
       "      <td>535.0</td>\n",
       "      <td>25.9</td>\n",
       "      <td>11.2</td>\n",
       "      <td>3.2</td>\n",
       "      <td>1.9</td>\n",
       "      <td>0.7</td>\n",
       "      <td>0.3</td>\n",
       "      <td>0.440</td>\n",
       "      <td>0.460</td>\n",
       "      <td>0.327</td>\n",
       "      <td>0.793</td>\n",
       "      <td>18.3</td>\n",
       "      <td>0.063</td>\n",
       "    </tr>\n",
       "    <tr>\n",
       "      <th>3</th>\n",
       "      <td>3</td>\n",
       "      <td>Tyler Hansbrough</td>\n",
       "      <td>2009</td>\n",
       "      <td>13.0</td>\n",
       "      <td>80.25</td>\n",
       "      <td>81.50</td>\n",
       "      <td>83.50</td>\n",
       "      <td>106.0</td>\n",
       "      <td>34.0</td>\n",
       "      <td>140.0</td>\n",
       "      <td>27.5</td>\n",
       "      <td>133.5</td>\n",
       "      <td>234.0</td>\n",
       "      <td>8.5</td>\n",
       "      <td>NaN</td>\n",
       "      <td>NaN</td>\n",
       "      <td>18.0</td>\n",
       "      <td>11.12</td>\n",
       "      <td>3.27</td>\n",
       "      <td>58</td>\n",
       "      <td>2009</td>\n",
       "      <td>NBA</td>\n",
       "      <td>1</td>\n",
       "      <td>IND</td>\n",
       "      <td>23.240</td>\n",
       "      <td>F</td>\n",
       "      <td>us</td>\n",
       "      <td>UNC</td>\n",
       "      <td>2010.0</td>\n",
       "      <td>2016.0</td>\n",
       "      <td>428.0</td>\n",
       "      <td>16.9</td>\n",
       "      <td>6.7</td>\n",
       "      <td>4.2</td>\n",
       "      <td>0.4</td>\n",
       "      <td>0.5</td>\n",
       "      <td>0.2</td>\n",
       "      <td>0.439</td>\n",
       "      <td>0.442</td>\n",
       "      <td>0.136</td>\n",
       "      <td>0.738</td>\n",
       "      <td>20.2</td>\n",
       "      <td>0.134</td>\n",
       "    </tr>\n",
       "    <tr>\n",
       "      <th>4</th>\n",
       "      <td>4</td>\n",
       "      <td>Earl Clark</td>\n",
       "      <td>2009</td>\n",
       "      <td>14.0</td>\n",
       "      <td>80.50</td>\n",
       "      <td>82.25</td>\n",
       "      <td>86.50</td>\n",
       "      <td>109.5</td>\n",
       "      <td>33.0</td>\n",
       "      <td>142.5</td>\n",
       "      <td>28.5</td>\n",
       "      <td>138.0</td>\n",
       "      <td>228.0</td>\n",
       "      <td>5.2</td>\n",
       "      <td>NaN</td>\n",
       "      <td>NaN</td>\n",
       "      <td>5.0</td>\n",
       "      <td>11.17</td>\n",
       "      <td>3.35</td>\n",
       "      <td>329</td>\n",
       "      <td>2009</td>\n",
       "      <td>NBA</td>\n",
       "      <td>1</td>\n",
       "      <td>PHO</td>\n",
       "      <td>21.165</td>\n",
       "      <td>F</td>\n",
       "      <td>us</td>\n",
       "      <td>Louisville</td>\n",
       "      <td>2010.0</td>\n",
       "      <td>2015.0</td>\n",
       "      <td>261.0</td>\n",
       "      <td>13.9</td>\n",
       "      <td>4.4</td>\n",
       "      <td>3.0</td>\n",
       "      <td>0.5</td>\n",
       "      <td>0.3</td>\n",
       "      <td>0.5</td>\n",
       "      <td>0.403</td>\n",
       "      <td>0.424</td>\n",
       "      <td>0.328</td>\n",
       "      <td>0.664</td>\n",
       "      <td>2.9</td>\n",
       "      <td>0.038</td>\n",
       "    </tr>\n",
       "  </tbody>\n",
       "</table>\n",
       "</div>"
      ],
      "text/plain": [
       "   Unnamed: 0             Player  Year_x    Pk  Height (No Shoes)  \\\n",
       "0           0      Blake Griffin    2009   1.0              80.50   \n",
       "1           1  Terrence Williams    2009  11.0              77.00   \n",
       "2           2   Gerald Henderson    2009  12.0              76.00   \n",
       "3           3   Tyler Hansbrough    2009  13.0              80.25   \n",
       "4           4         Earl Clark    2009  14.0              80.50   \n",
       "\n",
       "   Height (With Shoes)  Wingspan  Standing reach  Vertical (Max)  \\\n",
       "0                82.00     83.25           105.0            35.5   \n",
       "1                78.25     81.00           103.5            37.0   \n",
       "2                77.00     82.25           102.5            35.0   \n",
       "3                81.50     83.50           106.0            34.0   \n",
       "4                82.25     86.50           109.5            33.0   \n",
       "\n",
       "   Vertical (Max Reach)  Vertical (No Step)  Vertical (No Step Reach)  Weight  \\\n",
       "0                 140.5                32.0                     137.0   248.0   \n",
       "1                 140.5                30.5                     134.0   213.0   \n",
       "2                 137.5                31.5                     134.0   215.0   \n",
       "3                 140.0                27.5                     133.5   234.0   \n",
       "4                 142.5                28.5                     138.0   228.0   \n",
       "\n",
       "   Body Fat  Hand (Length)  Hand (Width)  Bench  Agility  Sprint   Rk  Year_y  \\\n",
       "0       8.2            NaN           NaN   22.0    10.95    3.28   19    2009   \n",
       "1       5.1            NaN           NaN    9.0    11.15    3.18  464    2009   \n",
       "2       4.4            NaN           NaN    8.0    11.17    3.14  258    2009   \n",
       "3       8.5            NaN           NaN   18.0    11.12    3.27   58    2009   \n",
       "4       5.2            NaN           NaN    5.0    11.17    3.35  329    2009   \n",
       "\n",
       "    Lg  Rd   Tm     Age Pos Born     College    From      To      G   MPG  \\\n",
       "0  NBA   1  LAC  20.106   F   us    Oklahoma  2011.0  2019.0  604.0  35.0   \n",
       "1  NBA   1  NJN  22.003   F   us  Louisville  2010.0  2013.0  153.0  19.1   \n",
       "2  NBA   1  CHA  21.204   G   us        Duke  2010.0  2017.0  535.0  25.9   \n",
       "3  NBA   1  IND  23.240   F   us         UNC  2010.0  2016.0  428.0  16.9   \n",
       "4  NBA   1  PHO  21.165   F   us  Louisville  2010.0  2015.0  261.0  13.9   \n",
       "\n",
       "    PPG  RPG  APG  SPG  BPG    FG%    2P%    3P%    FT%    WS  WS/48  \n",
       "0  21.9  9.0  4.5  0.9  0.5  0.502  0.522  0.342  0.692  75.3  0.171  \n",
       "1   7.1  3.6  2.4  0.5  0.1  0.412  0.432  0.317  0.659  -0.2 -0.004  \n",
       "2  11.2  3.2  1.9  0.7  0.3  0.440  0.460  0.327  0.793  18.3  0.063  \n",
       "3   6.7  4.2  0.4  0.5  0.2  0.439  0.442  0.136  0.738  20.2  0.134  \n",
       "4   4.4  3.0  0.5  0.3  0.5  0.403  0.424  0.328  0.664   2.9  0.038  "
      ]
     },
     "execution_count": 70,
     "metadata": {},
     "output_type": "execute_result"
    }
   ],
   "source": [
    "combine_careers_raw = pd.merge(nba_combine, player_avgs, on = ['Player', 'Pk'], how = 'inner')\n",
    "# combine_careers_raw.to_csv('combine_careers.csv')\n",
    "combine_careers_raw.head()"
   ]
  },
  {
   "cell_type": "markdown",
   "metadata": {},
   "source": [
    "## 3. Cleaning the Data"
   ]
  },
  {
   "cell_type": "markdown",
   "metadata": {},
   "source": [
    "Let's look at the structure of our data. We see below that we have 368 rows and 44 columns, but we have quite a few missing values in several columns. There's also seems to be several redundant columns that could be removed (e.g., `Year_x` and `Year_y`)."
   ]
  },
  {
   "cell_type": "code",
   "execution_count": 71,
   "metadata": {},
   "outputs": [
    {
     "name": "stdout",
     "output_type": "stream",
     "text": [
      "<class 'pandas.core.frame.DataFrame'>\n",
      "Int64Index: 366 entries, 0 to 365\n",
      "Data columns (total 43 columns):\n",
      "Unnamed: 0                  366 non-null int64\n",
      "Player                      366 non-null object\n",
      "Year_x                      366 non-null int64\n",
      "Pk                          366 non-null float64\n",
      "Height (No Shoes)           366 non-null float64\n",
      "Height (With Shoes)         366 non-null float64\n",
      "Wingspan                    366 non-null float64\n",
      "Standing reach              366 non-null float64\n",
      "Vertical (Max)              317 non-null float64\n",
      "Vertical (Max Reach)        317 non-null float64\n",
      "Vertical (No Step)          317 non-null float64\n",
      "Vertical (No Step Reach)    317 non-null float64\n",
      "Weight                      365 non-null float64\n",
      "Body Fat                    365 non-null float64\n",
      "Hand (Length)               328 non-null float64\n",
      "Hand (Width)                326 non-null float64\n",
      "Bench                       209 non-null float64\n",
      "Agility                     312 non-null float64\n",
      "Sprint                      315 non-null float64\n",
      "Rk                          366 non-null int64\n",
      "Year_y                      366 non-null int64\n",
      "Lg                          366 non-null object\n",
      "Rd                          366 non-null int64\n",
      "Tm                          366 non-null object\n",
      "Age                         362 non-null float64\n",
      "Pos                         362 non-null object\n",
      "Born                        362 non-null object\n",
      "College                     355 non-null object\n",
      "From                        348 non-null float64\n",
      "To                          348 non-null float64\n",
      "G                           348 non-null float64\n",
      "MPG                         348 non-null float64\n",
      "PPG                         348 non-null float64\n",
      "RPG                         348 non-null float64\n",
      "APG                         348 non-null float64\n",
      "SPG                         348 non-null float64\n",
      "BPG                         348 non-null float64\n",
      "FG%                         347 non-null float64\n",
      "2P%                         346 non-null float64\n",
      "3P%                         324 non-null float64\n",
      "FT%                         339 non-null float64\n",
      "WS                          348 non-null float64\n",
      "WS/48                       348 non-null float64\n",
      "dtypes: float64(32), int64(5), object(6)\n",
      "memory usage: 125.8+ KB\n"
     ]
    }
   ],
   "source": [
    "combine_careers_raw.info()"
   ]
  },
  {
   "cell_type": "markdown",
   "metadata": {},
   "source": [
    "#### A. Removing Unnecessary Columns"
   ]
  },
  {
   "cell_type": "markdown",
   "metadata": {},
   "source": [
    "We immediately notice that the first column is unnecessary, so we can remove it."
   ]
  },
  {
   "cell_type": "code",
   "execution_count": 125,
   "metadata": {},
   "outputs": [],
   "source": [
    "combine_careers = combine_careers_raw.copy()\n",
    "combine_careers.drop('Unnamed: 0', 1, inplace = True)"
   ]
  },
  {
   "cell_type": "markdown",
   "metadata": {},
   "source": [
    "We also notice that we have two year columns. Are there any discrepancies between the two? The answer is yes:"
   ]
  },
  {
   "cell_type": "code",
   "execution_count": 99,
   "metadata": {},
   "outputs": [
    {
     "data": {
      "text/html": [
       "<div>\n",
       "<style scoped>\n",
       "    .dataframe tbody tr th:only-of-type {\n",
       "        vertical-align: middle;\n",
       "    }\n",
       "\n",
       "    .dataframe tbody tr th {\n",
       "        vertical-align: top;\n",
       "    }\n",
       "\n",
       "    .dataframe thead th {\n",
       "        text-align: right;\n",
       "    }\n",
       "</style>\n",
       "<table border=\"1\" class=\"dataframe\">\n",
       "  <thead>\n",
       "    <tr style=\"text-align: right;\">\n",
       "      <th></th>\n",
       "      <th>Player</th>\n",
       "      <th>Year_x</th>\n",
       "      <th>Year_y</th>\n",
       "    </tr>\n",
       "  </thead>\n",
       "  <tbody>\n",
       "    <tr>\n",
       "      <th>15</th>\n",
       "      <td>Damion James</td>\n",
       "      <td>2009</td>\n",
       "      <td>2010</td>\n",
       "    </tr>\n",
       "    <tr>\n",
       "      <th>33</th>\n",
       "      <td>Gani Lawal</td>\n",
       "      <td>2009</td>\n",
       "      <td>2010</td>\n",
       "    </tr>\n",
       "    <tr>\n",
       "      <th>36</th>\n",
       "      <td>Luke Harangody</td>\n",
       "      <td>2009</td>\n",
       "      <td>2010</td>\n",
       "    </tr>\n",
       "    <tr>\n",
       "      <th>293</th>\n",
       "      <td>Justin Jackson</td>\n",
       "      <td>2016</td>\n",
       "      <td>2017</td>\n",
       "    </tr>\n",
       "    <tr>\n",
       "      <th>300</th>\n",
       "      <td>Caleb Swanigan</td>\n",
       "      <td>2016</td>\n",
       "      <td>2017</td>\n",
       "    </tr>\n",
       "    <tr>\n",
       "      <th>304</th>\n",
       "      <td>Josh Hart</td>\n",
       "      <td>2016</td>\n",
       "      <td>2017</td>\n",
       "    </tr>\n",
       "    <tr>\n",
       "      <th>326</th>\n",
       "      <td>Jaron Blossomgame</td>\n",
       "      <td>2016</td>\n",
       "      <td>2017</td>\n",
       "    </tr>\n",
       "  </tbody>\n",
       "</table>\n",
       "</div>"
      ],
      "text/plain": [
       "                Player  Year_x  Year_y\n",
       "15        Damion James    2009    2010\n",
       "33          Gani Lawal    2009    2010\n",
       "36      Luke Harangody    2009    2010\n",
       "293     Justin Jackson    2016    2017\n",
       "300     Caleb Swanigan    2016    2017\n",
       "304          Josh Hart    2016    2017\n",
       "326  Jaron Blossomgame    2016    2017"
      ]
     },
     "execution_count": 99,
     "metadata": {},
     "output_type": "execute_result"
    }
   ],
   "source": [
    "year_diff = combine_careers[['Year_x', 'Year_y']][combine_careers.Year_x != combine_careers.Year_y]\n",
    "combine_careers.iloc[year_diff.index][['Player', 'Year_x', 'Year_y']]"
   ]
  },
  {
   "cell_type": "markdown",
   "metadata": {},
   "source": [
    "A quick look at these players' NBA combine results shows that `Year_y`  is the correct column (for [2010](https://www.nbadraft.net/2010-nba-draft-combine-official-measurements/) and [2017](https://www.nbadraft.net/2017-nba-draft-combine-measurements/) draftees). A brief check against the [official NBA Combine data](https://stats.nba.com/draft/combine-anthro/?SeasonYear=2016-17) shows that player statistics are still accurate, with some minor rounding differences. We'll go ahead and delete the `Year_x` column, and rename `Year_y` to `Year`."
   ]
  },
  {
   "cell_type": "code",
   "execution_count": 126,
   "metadata": {},
   "outputs": [],
   "source": [
    "combine_careers.drop('Year_x', 1, inplace = True)\n",
    "combine_careers.rename(columns = {'Year_y': 'Year'}, inplace = True)"
   ]
  },
  {
   "cell_type": "markdown",
   "metadata": {},
   "source": [
    "Other columns we can delete: `Lg` and `Rd` (which stand for league and draft round, respectively). These are redundant because all players are in the NBA league, and because [draft round is redundant information if we know the draft pick](https://www.nba.com/nba-draft-lottery-explainer) (picks 1-30 are in round 1, and picks 31-60 are in round 2)."
   ]
  },
  {
   "cell_type": "code",
   "execution_count": 127,
   "metadata": {},
   "outputs": [],
   "source": [
    "combine_careers.drop(['Lg', 'Rd'], 1, inplace = True)"
   ]
  },
  {
   "cell_type": "code",
   "execution_count": 128,
   "metadata": {},
   "outputs": [
    {
     "data": {
      "text/html": [
       "<div>\n",
       "<style scoped>\n",
       "    .dataframe tbody tr th:only-of-type {\n",
       "        vertical-align: middle;\n",
       "    }\n",
       "\n",
       "    .dataframe tbody tr th {\n",
       "        vertical-align: top;\n",
       "    }\n",
       "\n",
       "    .dataframe thead th {\n",
       "        text-align: right;\n",
       "    }\n",
       "</style>\n",
       "<table border=\"1\" class=\"dataframe\">\n",
       "  <thead>\n",
       "    <tr style=\"text-align: right;\">\n",
       "      <th></th>\n",
       "      <th>Player</th>\n",
       "      <th>Pk</th>\n",
       "      <th>Height (No Shoes)</th>\n",
       "      <th>Height (With Shoes)</th>\n",
       "      <th>Wingspan</th>\n",
       "      <th>Standing reach</th>\n",
       "      <th>Vertical (Max)</th>\n",
       "      <th>Vertical (Max Reach)</th>\n",
       "      <th>Vertical (No Step)</th>\n",
       "      <th>Vertical (No Step Reach)</th>\n",
       "      <th>Weight</th>\n",
       "      <th>Body Fat</th>\n",
       "      <th>Hand (Length)</th>\n",
       "      <th>Hand (Width)</th>\n",
       "      <th>Bench</th>\n",
       "      <th>Agility</th>\n",
       "      <th>Sprint</th>\n",
       "      <th>Rk</th>\n",
       "      <th>Year</th>\n",
       "      <th>Tm</th>\n",
       "      <th>Age</th>\n",
       "      <th>Pos</th>\n",
       "      <th>Born</th>\n",
       "      <th>College</th>\n",
       "      <th>From</th>\n",
       "      <th>To</th>\n",
       "      <th>G</th>\n",
       "      <th>MPG</th>\n",
       "      <th>PPG</th>\n",
       "      <th>RPG</th>\n",
       "      <th>APG</th>\n",
       "      <th>SPG</th>\n",
       "      <th>BPG</th>\n",
       "      <th>FG%</th>\n",
       "      <th>2P%</th>\n",
       "      <th>3P%</th>\n",
       "      <th>FT%</th>\n",
       "      <th>WS</th>\n",
       "      <th>WS/48</th>\n",
       "    </tr>\n",
       "  </thead>\n",
       "  <tbody>\n",
       "    <tr>\n",
       "      <th>0</th>\n",
       "      <td>Blake Griffin</td>\n",
       "      <td>1.0</td>\n",
       "      <td>80.50</td>\n",
       "      <td>82.00</td>\n",
       "      <td>83.25</td>\n",
       "      <td>105.0</td>\n",
       "      <td>35.5</td>\n",
       "      <td>140.5</td>\n",
       "      <td>32.0</td>\n",
       "      <td>137.0</td>\n",
       "      <td>248.0</td>\n",
       "      <td>8.2</td>\n",
       "      <td>NaN</td>\n",
       "      <td>NaN</td>\n",
       "      <td>22.0</td>\n",
       "      <td>10.95</td>\n",
       "      <td>3.28</td>\n",
       "      <td>19</td>\n",
       "      <td>2009</td>\n",
       "      <td>LAC</td>\n",
       "      <td>20.106</td>\n",
       "      <td>F</td>\n",
       "      <td>us</td>\n",
       "      <td>Oklahoma</td>\n",
       "      <td>2011.0</td>\n",
       "      <td>2019.0</td>\n",
       "      <td>604.0</td>\n",
       "      <td>35.0</td>\n",
       "      <td>21.9</td>\n",
       "      <td>9.0</td>\n",
       "      <td>4.5</td>\n",
       "      <td>0.9</td>\n",
       "      <td>0.5</td>\n",
       "      <td>0.502</td>\n",
       "      <td>0.522</td>\n",
       "      <td>0.342</td>\n",
       "      <td>0.692</td>\n",
       "      <td>75.3</td>\n",
       "      <td>0.171</td>\n",
       "    </tr>\n",
       "    <tr>\n",
       "      <th>1</th>\n",
       "      <td>Terrence Williams</td>\n",
       "      <td>11.0</td>\n",
       "      <td>77.00</td>\n",
       "      <td>78.25</td>\n",
       "      <td>81.00</td>\n",
       "      <td>103.5</td>\n",
       "      <td>37.0</td>\n",
       "      <td>140.5</td>\n",
       "      <td>30.5</td>\n",
       "      <td>134.0</td>\n",
       "      <td>213.0</td>\n",
       "      <td>5.1</td>\n",
       "      <td>NaN</td>\n",
       "      <td>NaN</td>\n",
       "      <td>9.0</td>\n",
       "      <td>11.15</td>\n",
       "      <td>3.18</td>\n",
       "      <td>464</td>\n",
       "      <td>2009</td>\n",
       "      <td>NJN</td>\n",
       "      <td>22.003</td>\n",
       "      <td>F</td>\n",
       "      <td>us</td>\n",
       "      <td>Louisville</td>\n",
       "      <td>2010.0</td>\n",
       "      <td>2013.0</td>\n",
       "      <td>153.0</td>\n",
       "      <td>19.1</td>\n",
       "      <td>7.1</td>\n",
       "      <td>3.6</td>\n",
       "      <td>2.4</td>\n",
       "      <td>0.5</td>\n",
       "      <td>0.1</td>\n",
       "      <td>0.412</td>\n",
       "      <td>0.432</td>\n",
       "      <td>0.317</td>\n",
       "      <td>0.659</td>\n",
       "      <td>-0.2</td>\n",
       "      <td>-0.004</td>\n",
       "    </tr>\n",
       "    <tr>\n",
       "      <th>2</th>\n",
       "      <td>Gerald Henderson</td>\n",
       "      <td>12.0</td>\n",
       "      <td>76.00</td>\n",
       "      <td>77.00</td>\n",
       "      <td>82.25</td>\n",
       "      <td>102.5</td>\n",
       "      <td>35.0</td>\n",
       "      <td>137.5</td>\n",
       "      <td>31.5</td>\n",
       "      <td>134.0</td>\n",
       "      <td>215.0</td>\n",
       "      <td>4.4</td>\n",
       "      <td>NaN</td>\n",
       "      <td>NaN</td>\n",
       "      <td>8.0</td>\n",
       "      <td>11.17</td>\n",
       "      <td>3.14</td>\n",
       "      <td>258</td>\n",
       "      <td>2009</td>\n",
       "      <td>CHA</td>\n",
       "      <td>21.204</td>\n",
       "      <td>G</td>\n",
       "      <td>us</td>\n",
       "      <td>Duke</td>\n",
       "      <td>2010.0</td>\n",
       "      <td>2017.0</td>\n",
       "      <td>535.0</td>\n",
       "      <td>25.9</td>\n",
       "      <td>11.2</td>\n",
       "      <td>3.2</td>\n",
       "      <td>1.9</td>\n",
       "      <td>0.7</td>\n",
       "      <td>0.3</td>\n",
       "      <td>0.440</td>\n",
       "      <td>0.460</td>\n",
       "      <td>0.327</td>\n",
       "      <td>0.793</td>\n",
       "      <td>18.3</td>\n",
       "      <td>0.063</td>\n",
       "    </tr>\n",
       "    <tr>\n",
       "      <th>3</th>\n",
       "      <td>Tyler Hansbrough</td>\n",
       "      <td>13.0</td>\n",
       "      <td>80.25</td>\n",
       "      <td>81.50</td>\n",
       "      <td>83.50</td>\n",
       "      <td>106.0</td>\n",
       "      <td>34.0</td>\n",
       "      <td>140.0</td>\n",
       "      <td>27.5</td>\n",
       "      <td>133.5</td>\n",
       "      <td>234.0</td>\n",
       "      <td>8.5</td>\n",
       "      <td>NaN</td>\n",
       "      <td>NaN</td>\n",
       "      <td>18.0</td>\n",
       "      <td>11.12</td>\n",
       "      <td>3.27</td>\n",
       "      <td>58</td>\n",
       "      <td>2009</td>\n",
       "      <td>IND</td>\n",
       "      <td>23.240</td>\n",
       "      <td>F</td>\n",
       "      <td>us</td>\n",
       "      <td>UNC</td>\n",
       "      <td>2010.0</td>\n",
       "      <td>2016.0</td>\n",
       "      <td>428.0</td>\n",
       "      <td>16.9</td>\n",
       "      <td>6.7</td>\n",
       "      <td>4.2</td>\n",
       "      <td>0.4</td>\n",
       "      <td>0.5</td>\n",
       "      <td>0.2</td>\n",
       "      <td>0.439</td>\n",
       "      <td>0.442</td>\n",
       "      <td>0.136</td>\n",
       "      <td>0.738</td>\n",
       "      <td>20.2</td>\n",
       "      <td>0.134</td>\n",
       "    </tr>\n",
       "    <tr>\n",
       "      <th>4</th>\n",
       "      <td>Earl Clark</td>\n",
       "      <td>14.0</td>\n",
       "      <td>80.50</td>\n",
       "      <td>82.25</td>\n",
       "      <td>86.50</td>\n",
       "      <td>109.5</td>\n",
       "      <td>33.0</td>\n",
       "      <td>142.5</td>\n",
       "      <td>28.5</td>\n",
       "      <td>138.0</td>\n",
       "      <td>228.0</td>\n",
       "      <td>5.2</td>\n",
       "      <td>NaN</td>\n",
       "      <td>NaN</td>\n",
       "      <td>5.0</td>\n",
       "      <td>11.17</td>\n",
       "      <td>3.35</td>\n",
       "      <td>329</td>\n",
       "      <td>2009</td>\n",
       "      <td>PHO</td>\n",
       "      <td>21.165</td>\n",
       "      <td>F</td>\n",
       "      <td>us</td>\n",
       "      <td>Louisville</td>\n",
       "      <td>2010.0</td>\n",
       "      <td>2015.0</td>\n",
       "      <td>261.0</td>\n",
       "      <td>13.9</td>\n",
       "      <td>4.4</td>\n",
       "      <td>3.0</td>\n",
       "      <td>0.5</td>\n",
       "      <td>0.3</td>\n",
       "      <td>0.5</td>\n",
       "      <td>0.403</td>\n",
       "      <td>0.424</td>\n",
       "      <td>0.328</td>\n",
       "      <td>0.664</td>\n",
       "      <td>2.9</td>\n",
       "      <td>0.038</td>\n",
       "    </tr>\n",
       "  </tbody>\n",
       "</table>\n",
       "</div>"
      ],
      "text/plain": [
       "              Player    Pk  Height (No Shoes)  Height (With Shoes)  Wingspan  \\\n",
       "0      Blake Griffin   1.0              80.50                82.00     83.25   \n",
       "1  Terrence Williams  11.0              77.00                78.25     81.00   \n",
       "2   Gerald Henderson  12.0              76.00                77.00     82.25   \n",
       "3   Tyler Hansbrough  13.0              80.25                81.50     83.50   \n",
       "4         Earl Clark  14.0              80.50                82.25     86.50   \n",
       "\n",
       "   Standing reach  Vertical (Max)  Vertical (Max Reach)  Vertical (No Step)  \\\n",
       "0           105.0            35.5                 140.5                32.0   \n",
       "1           103.5            37.0                 140.5                30.5   \n",
       "2           102.5            35.0                 137.5                31.5   \n",
       "3           106.0            34.0                 140.0                27.5   \n",
       "4           109.5            33.0                 142.5                28.5   \n",
       "\n",
       "   Vertical (No Step Reach)  Weight  Body Fat  Hand (Length)  Hand (Width)  \\\n",
       "0                     137.0   248.0       8.2            NaN           NaN   \n",
       "1                     134.0   213.0       5.1            NaN           NaN   \n",
       "2                     134.0   215.0       4.4            NaN           NaN   \n",
       "3                     133.5   234.0       8.5            NaN           NaN   \n",
       "4                     138.0   228.0       5.2            NaN           NaN   \n",
       "\n",
       "   Bench  Agility  Sprint   Rk  Year   Tm     Age Pos Born     College  \\\n",
       "0   22.0    10.95    3.28   19  2009  LAC  20.106   F   us    Oklahoma   \n",
       "1    9.0    11.15    3.18  464  2009  NJN  22.003   F   us  Louisville   \n",
       "2    8.0    11.17    3.14  258  2009  CHA  21.204   G   us        Duke   \n",
       "3   18.0    11.12    3.27   58  2009  IND  23.240   F   us         UNC   \n",
       "4    5.0    11.17    3.35  329  2009  PHO  21.165   F   us  Louisville   \n",
       "\n",
       "     From      To      G   MPG   PPG  RPG  APG  SPG  BPG    FG%    2P%    3P%  \\\n",
       "0  2011.0  2019.0  604.0  35.0  21.9  9.0  4.5  0.9  0.5  0.502  0.522  0.342   \n",
       "1  2010.0  2013.0  153.0  19.1   7.1  3.6  2.4  0.5  0.1  0.412  0.432  0.317   \n",
       "2  2010.0  2017.0  535.0  25.9  11.2  3.2  1.9  0.7  0.3  0.440  0.460  0.327   \n",
       "3  2010.0  2016.0  428.0  16.9   6.7  4.2  0.4  0.5  0.2  0.439  0.442  0.136   \n",
       "4  2010.0  2015.0  261.0  13.9   4.4  3.0  0.5  0.3  0.5  0.403  0.424  0.328   \n",
       "\n",
       "     FT%    WS  WS/48  \n",
       "0  0.692  75.3  0.171  \n",
       "1  0.659  -0.2 -0.004  \n",
       "2  0.793  18.3  0.063  \n",
       "3  0.738  20.2  0.134  \n",
       "4  0.664   2.9  0.038  "
      ]
     },
     "execution_count": 128,
     "metadata": {},
     "output_type": "execute_result"
    }
   ],
   "source": [
    "# A final look...\n",
    "combine_careers.head()"
   ]
  },
  {
   "cell_type": "markdown",
   "metadata": {},
   "source": [
    "#### B. Removing Players Who Never Played"
   ]
  },
  {
   "cell_type": "markdown",
   "metadata": {},
   "source": [
    "We can easily see that there are a number of players who participated in the draft combine, were drafted, but never played a single game."
   ]
  },
  {
   "cell_type": "code",
   "execution_count": 165,
   "metadata": {},
   "outputs": [
    {
     "data": {
      "text/plain": [
       "34       Jack McClinton\n",
       "62        Terrico White\n",
       "70          Tiny Gallon\n",
       "71        Ryan Richards\n",
       "76     Stanley Robinson\n",
       "115         Jon Diebler\n",
       "163       Marcus Denmon\n",
       "202      Colton Iverson\n",
       "204      Deshaun Thomas\n",
       "228     DeAndre Daniels\n",
       "241          Alec Brown\n",
       "246       Xavier Thames\n",
       "279      Olivier Hanlan\n",
       "281     Marcus Thornton\n",
       "284         Aaron White\n",
       "285        Tyler Harvey\n",
       "287         J.P. Tokoto\n",
       "325      Isaiah Cousins\n",
       "Name: Player, dtype: object"
      ]
     },
     "execution_count": 165,
     "metadata": {},
     "output_type": "execute_result"
    }
   ],
   "source": [
    "combine_careers[combine_careers.G.isnull()].Player"
   ]
  },
  {
   "cell_type": "markdown",
   "metadata": {},
   "source": [
    "Let's go ahead and delete these rows, since they won't help us learn about how athleticism affects career."
   ]
  },
  {
   "cell_type": "code",
   "execution_count": 168,
   "metadata": {},
   "outputs": [
    {
     "data": {
      "text/plain": [
       "0"
      ]
     },
     "execution_count": 168,
     "metadata": {},
     "output_type": "execute_result"
    }
   ],
   "source": [
    "combine_careers = combine_careers[combine_careers.G.notnull()]\n",
    "# no more players who didn't play any games\n",
    "len(combine_careers[combine_careers.G.isnull()].Player)"
   ]
  },
  {
   "cell_type": "code",
   "execution_count": 1,
   "metadata": {},
   "outputs": [
    {
     "ename": "NameError",
     "evalue": "name 'combine_careers' is not defined",
     "output_type": "error",
     "traceback": [
      "\u001b[1;31m---------------------------------------------------------------------------\u001b[0m",
      "\u001b[1;31mNameError\u001b[0m                                 Traceback (most recent call last)",
      "\u001b[1;32m<ipython-input-1-4161c325e55f>\u001b[0m in \u001b[0;36m<module>\u001b[1;34m\u001b[0m\n\u001b[1;32m----> 1\u001b[1;33m \u001b[0mcombine_careers\u001b[0m\u001b[1;33m.\u001b[0m\u001b[0mhead\u001b[0m\u001b[1;33m(\u001b[0m\u001b[1;33m)\u001b[0m\u001b[1;33m\u001b[0m\u001b[1;33m\u001b[0m\u001b[0m\n\u001b[0m",
      "\u001b[1;31mNameError\u001b[0m: name 'combine_careers' is not defined"
     ]
    }
   ],
   "source": [
    "combine_careers.head()"
   ]
  },
  {
   "cell_type": "code",
   "execution_count": 26,
   "metadata": {},
   "outputs": [
    {
     "data": {
      "text/plain": [
       "<matplotlib.collections.PathCollection at 0x1e6fc07d160>"
      ]
     },
     "execution_count": 26,
     "metadata": {},
     "output_type": "execute_result"
    },
    {
     "data": {
      "image/png": "[encoded data removed]",
      "text/plain": [
       "<Figure size 432x288 with 1 Axes>"
      ]
     },
     "metadata": {
      "needs_background": "light"
     },
     "output_type": "display_data"
    }
   ],
   "source": [
    "plt.scatter('RPG', 'Standing reach', data = combine_careers)"
   ]
  },
  {
   "cell_type": "code",
   "execution_count": 33,
   "metadata": {},
   "outputs": [
    {
     "data": {
      "text/plain": [
       "Index(['Unnamed: 0', 'Player', 'Year_x', 'Draft pick', 'Height (No Shoes)',\n",
       "       'Height (With Shoes)', 'Wingspan', 'Standing reach', 'Vertical (Max)',\n",
       "       'Vertical (Max Reach)', 'Vertical (No Step)',\n",
       "       'Vertical (No Step Reach)', 'Weight', 'Body Fat', 'Hand (Length)',\n",
       "       'Hand (Width)', 'Bench', 'Agility', 'Sprint', 'Rk', 'Year_y', 'Lg',\n",
       "       'Rd', 'Pk', 'Tm', 'Age', 'Pos', 'Born', 'College', 'From', 'To', 'G',\n",
       "       'MPG', 'PPG', 'RPG', 'APG', 'SPG', 'BPG', 'FG%', '2P%', '3P%', 'FT%',\n",
       "       'WS', 'WS/48'],\n",
       "      dtype='object')"
      ]
     },
     "execution_count": 33,
     "metadata": {},
     "output_type": "execute_result"
    }
   ],
   "source": [
    "combine_careers.columns"
   ]
  },
  {
   "cell_type": "code",
   "execution_count": 30,
   "metadata": {},
   "outputs": [
    {
     "data": {
      "text/plain": [
       "(array([ 2.,  4., 20., 33., 70., 90., 66., 50., 27.,  6.]),\n",
       " array([70.  , 72.25, 74.5 , 76.75, 79.  , 81.25, 83.5 , 85.75, 88.  ,\n",
       "        90.25, 92.5 ]),\n",
       " <a list of 10 Patch objects>)"
      ]
     },
     "execution_count": 30,
     "metadata": {},
     "output_type": "execute_result"
    },
    {
     "data": {
      "image/png": "[encoded data removed]",
      "text/plain": [
       "<Figure size 432x288 with 1 Axes>"
      ]
     },
     "metadata": {
      "needs_background": "light"
     },
     "output_type": "display_data"
    }
   ],
   "source": [
    "plt.hist('Wingspan', data = combine_careers)"
   ]
  },
  {
   "cell_type": "code",
   "execution_count": 34,
   "metadata": {},
   "outputs": [
    {
     "name": "stderr",
     "output_type": "stream",
     "text": [
      "C:\\Users\\jrtra\\Anaconda3\\lib\\site-packages\\numpy\\lib\\histograms.py:824: RuntimeWarning: invalid value encountered in greater_equal\n",
      "  keep = (tmp_a >= first_edge)\n",
      "C:\\Users\\jrtra\\Anaconda3\\lib\\site-packages\\numpy\\lib\\histograms.py:825: RuntimeWarning: invalid value encountered in less_equal\n",
      "  keep &= (tmp_a <= last_edge)\n"
     ]
    },
    {
     "data": {
      "text/plain": [
       "(array([ 30.,  16.,  76., 186.,  15.,   0.,   0.,   0.,   0.,   2.]),\n",
       " array([0. , 0.1, 0.2, 0.3, 0.4, 0.5, 0.6, 0.7, 0.8, 0.9, 1. ]),\n",
       " <a list of 10 Patch objects>)"
      ]
     },
     "execution_count": 34,
     "metadata": {},
     "output_type": "execute_result"
    },
    {
     "data": {
      "image/png": "[encoded data removed]",
      "text/plain": [
       "<Figure size 432x288 with 1 Axes>"
      ]
     },
     "metadata": {
      "needs_background": "light"
     },
     "output_type": "display_data"
    }
   ],
   "source": [
    "plt.hist('3P%', data = combine_careers)"
   ]
  },
  {
   "cell_type": "code",
   "execution_count": 36,
   "metadata": {},
   "outputs": [
    {
     "data": {
      "text/plain": [
       "<matplotlib.collections.PathCollection at 0x1e6fd09fa58>"
      ]
     },
     "execution_count": 36,
     "metadata": {},
     "output_type": "execute_result"
    },
    {
     "data": {
      "image/png": "[encoded data removed]",
      "text/plain": [
       "<Figure size 432x288 with 1 Axes>"
      ]
     },
     "metadata": {
      "needs_background": "light"
     },
     "output_type": "display_data"
    }
   ],
   "source": [
    "plt.scatter('Draft pick', 'Height (With Shoes)', data = combine_careers)"
   ]
  },
  {
   "cell_type": "code",
   "execution_count": 46,
   "metadata": {},
   "outputs": [
    {
     "data": {
      "text/plain": [
       "Text(0.5, 1.09, 'Heights by Birth Country')"
      ]
     },
     "execution_count": 46,
     "metadata": {},
     "output_type": "execute_result"
    },
    {
     "data": {
      "image/png": "[encoded data removed]",
      "text/plain": [
       "<Figure size 432x288 with 1 Axes>"
      ]
     },
     "metadata": {
      "needs_background": "light"
     },
     "output_type": "display_data"
    }
   ],
   "source": [
    "combine_careers.boxplot('Height (With Shoes)', by = 'Born')\n",
    "plt.title('Heights by Birth Country', y=1.09)"
   ]
  },
  {
   "cell_type": "code",
   "execution_count": 48,
   "metadata": {},
   "outputs": [
    {
     "name": "stderr",
     "output_type": "stream",
     "text": [
      "C:\\Users\\jrtra\\Anaconda3\\lib\\site-packages\\numpy\\lib\\histograms.py:824: RuntimeWarning: invalid value encountered in greater_equal\n",
      "  keep = (tmp_a >= first_edge)\n",
      "C:\\Users\\jrtra\\Anaconda3\\lib\\site-packages\\numpy\\lib\\histograms.py:825: RuntimeWarning: invalid value encountered in less_equal\n",
      "  keep &= (tmp_a <= last_edge)\n"
     ]
    },
    {
     "data": {
      "text/plain": [
       "<seaborn.axisgrid.PairGrid at 0x1e6ff95c630>"
      ]
     },
     "execution_count": 48,
     "metadata": {},
     "output_type": "execute_result"
    },
    {
     "data": {
      "image/png": "[encoded data removed]",
      "text/plain": [
       "<Figure size 360x360 with 6 Axes>"
      ]
     },
     "metadata": {
      "needs_background": "light"
     },
     "output_type": "display_data"
    }
   ],
   "source": [
    "sns.pairplot(data = combine_careers[['RPG', 'SPG']])"
   ]
  },
  {
   "cell_type": "code",
   "execution_count": null,
   "metadata": {},
   "outputs": [],
   "source": []
  }
 ],
 "metadata": {
  "kernelspec": {
   "display_name": "Python 3",
   "language": "python",
   "name": "python3"
  },
  "language_info": {
   "codemirror_mode": {
    "name": "ipython",
    "version": 3
   },
   "file_extension": ".py",
   "mimetype": "text/x-python",
   "name": "python",
   "nbconvert_exporter": "python",
   "pygments_lexer": "ipython3",
   "version": "3.7.3"
  }
 },
 "nbformat": 4,
 "nbformat_minor": 2
}
